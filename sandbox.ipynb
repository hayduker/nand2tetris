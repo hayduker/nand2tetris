{
 "cells": [
  {
   "cell_type": "code",
   "execution_count": 1,
   "metadata": {},
   "outputs": [],
   "source": [
    "from gates import *"
   ]
  },
  {
   "cell_type": "code",
   "execution_count": 89,
   "metadata": {},
   "outputs": [],
   "source": [
    "class SRNandLatch:\n",
    "    def __init__(self):\n",
    "        self.q = 0\n",
    "        self.not_q = 1\n",
    "\n",
    "    def eval(self, r, s):\n",
    "        if s == 0:\n",
    "            self.not_q = Nand(self.q, s)\n",
    "            self.q = Nand(r, self.not_q)\n",
    "        elif r == 0:\n",
    "            self.q = Nand(r, self.not_q)\n",
    "            self.not_q = Nand(self.q, s)\n",
    "\n",
    "        return self\n",
    "    \n",
    "    def __repr__(self):\n",
    "        return f'q={self.q}, not_q={self.not_q}'"
   ]
  },
  {
   "cell_type": "code",
   "execution_count": 90,
   "metadata": {},
   "outputs": [
    {
     "data": {
      "text/plain": [
       "q=0, not_q=1"
      ]
     },
     "execution_count": 90,
     "metadata": {},
     "output_type": "execute_result"
    }
   ],
   "source": [
    "l = SRNandLatch()\n",
    "l"
   ]
  },
  {
   "cell_type": "code",
   "execution_count": 91,
   "metadata": {},
   "outputs": [
    {
     "data": {
      "text/plain": [
       "q=1, not_q=0"
      ]
     },
     "execution_count": 91,
     "metadata": {},
     "output_type": "execute_result"
    }
   ],
   "source": [
    "l.eval(s=1, r=0)"
   ]
  },
  {
   "cell_type": "code",
   "execution_count": 92,
   "metadata": {},
   "outputs": [
    {
     "data": {
      "text/plain": [
       "q=0, not_q=1"
      ]
     },
     "execution_count": 92,
     "metadata": {},
     "output_type": "execute_result"
    }
   ],
   "source": [
    "l.eval(s=0, r=1)"
   ]
  },
  {
   "cell_type": "code",
   "execution_count": 18,
   "metadata": {},
   "outputs": [],
   "source": [
    "class DFF:\n",
    "    def __init__(self):\n",
    "        self.q = 0\n",
    "    \n",
    "    def eval(self, inp):\n",
    "        last_q = self.q\n",
    "        self.q = inp\n",
    "        return last_q\n",
    "\n",
    "\n",
    "class Bit:\n",
    "    def __init__(self):\n",
    "        self.dff = DFF()\n",
    "    \n",
    "    def eval(self, inp, load):\n",
    "        # Not sure how else to implement hardware feedback in code\n",
    "        # This is sort of cheating, because we look at the output\n",
    "        # of the DFF before running eval() on it.\n",
    "        which = Mux(self.dff.q, inp, load)\n",
    "        return self.dff.eval(which)\n",
    "\n",
    "    def __str__(self):\n",
    "        return str(self.dff.q)\n",
    "    \n",
    "    def __repr__(self):\n",
    "        return str(self)\n",
    "\n",
    "\n",
    "class Register:\n",
    "    def __init__(self):\n",
    "        self.bit0  = Bit()\n",
    "        self.bit1  = Bit()\n",
    "        self.bit2  = Bit()\n",
    "        self.bit3  = Bit()\n",
    "        self.bit4  = Bit()\n",
    "        self.bit5  = Bit()\n",
    "        self.bit6  = Bit()\n",
    "        self.bit7  = Bit()\n",
    "        self.bit8  = Bit()\n",
    "        self.bit9  = Bit()\n",
    "        self.bit10 = Bit()\n",
    "        self.bit11 = Bit()\n",
    "        self.bit12 = Bit()\n",
    "        self.bit13 = Bit()\n",
    "        self.bit14 = Bit()\n",
    "        self.bit15 = Bit()\n",
    "    \n",
    "    def eval(self, inp, load):\n",
    "        out0  = self.bit0.eval(inp[15], load)\n",
    "        out1  = self.bit1.eval(inp[14], load)\n",
    "        out2  = self.bit2.eval(inp[13], load)\n",
    "        out3  = self.bit3.eval(inp[12], load)\n",
    "        out4  = self.bit4.eval(inp[11], load)\n",
    "        out5  = self.bit5.eval(inp[10], load)\n",
    "        out6  = self.bit6.eval(inp[9],  load)\n",
    "        out7  = self.bit7.eval(inp[8],  load)\n",
    "        out8  = self.bit8.eval(inp[7],  load)\n",
    "        out9  = self.bit9.eval(inp[6],  load)\n",
    "        out10 = self.bit10.eval(inp[5], load)\n",
    "        out11 = self.bit11.eval(inp[4], load)\n",
    "        out12 = self.bit12.eval(inp[3], load)\n",
    "        out13 = self.bit13.eval(inp[2], load)\n",
    "        out14 = self.bit14.eval(inp[1], load)\n",
    "        out15 = self.bit15.eval(inp[0], load)\n",
    "\n",
    "        return out15, out14, out13, out12, out11, out10, out9, out8, \\\n",
    "               out7, out6, out5, out4, out3, out2, out1, out0\n",
    "        \n",
    "    def __str__(self):\n",
    "        return f'{self.bit15} {self.bit14} {self.bit13} {self.bit12} ' + \\\n",
    "               f'{self.bit11} {self.bit10} {self.bit9} {self.bit8} ' + \\\n",
    "               f'{self.bit7} {self.bit6} {self.bit5} {self.bit4} ' + \\\n",
    "               f'{self.bit3} {self.bit2} {self.bit1} {self.bit0}'\n",
    "    \n",
    "    def __repr__(self):\n",
    "        return str(self)\n",
    "\n",
    "\n",
    "class RAM8:\n",
    "    def __init__(self):\n",
    "        self.r0 = Register()\n",
    "        self.r1 = Register()\n",
    "        self.r2 = Register()\n",
    "        self.r3 = Register()\n",
    "        self.r4 = Register()\n",
    "        self.r5 = Register()\n",
    "        self.r6 = Register()\n",
    "        self.r7 = Register()\n",
    "\n",
    "    def eval(self, inp, load, addr):\n",
    "        ld0, ld1, ld2, ld3, ld4, ld5, ld6, ld7 = DMux8Way(load, sel=addr)\n",
    "\n",
    "        out0 = self.r0.eval(inp, ld0)\n",
    "        out1 = self.r1.eval(inp, ld1)\n",
    "        out2 = self.r2.eval(inp, ld2)\n",
    "        out3 = self.r3.eval(inp, ld3)\n",
    "        out4 = self.r4.eval(inp, ld4)\n",
    "        out5 = self.r5.eval(inp, ld5)\n",
    "        out6 = self.r6.eval(inp, ld6)\n",
    "        out7 = self.r7.eval(inp, ld7)\n",
    "\n",
    "        return Mux8Way16(out0, out1, out2, out3, out4, out5, out6, out7, sel=addr)\n",
    "    \n",
    "    def __str__(self):\n",
    "        return f'r0: {self.r0}\\nr1: {self.r1}\\nr2: {self.r2}\\nr3: {self.r3}\\n' + \\\n",
    "               f'r4: {self.r4}\\nr5: {self.r5}\\nr6: {self.r6}\\nr7: {self.r7}'\n",
    "\n",
    "    def __repr__(self):\n",
    "        return str(self)\n",
    "        "
   ]
  },
  {
   "cell_type": "code",
   "execution_count": 25,
   "metadata": {},
   "outputs": [],
   "source": [
    "ram = RAM8()"
   ]
  },
  {
   "cell_type": "code",
   "execution_count": 33,
   "metadata": {},
   "outputs": [
    {
     "data": {
      "text/plain": [
       "(1, 1, 1, 1, 0, 0, 0, 0, 0, 0, 0, 0, 0, 0, 0, 0)"
      ]
     },
     "execution_count": 33,
     "metadata": {},
     "output_type": "execute_result"
    }
   ],
   "source": [
    "ram.eval(inp=(1,1,1,1,0,0,0,0,0,0,0,0,0,0,0,0), load=0, addr=(0,1,0))"
   ]
  },
  {
   "cell_type": "code",
   "execution_count": 34,
   "metadata": {},
   "outputs": [
    {
     "data": {
      "text/plain": [
       "r0: 0 0 0 0 0 0 0 0 0 0 0 0 0 0 0 0\n",
       "r1: 0 0 0 0 0 0 0 0 0 0 0 0 0 0 0 0\n",
       "r2: 1 1 1 1 0 0 0 0 0 0 0 0 0 0 0 0\n",
       "r3: 0 0 0 0 0 0 0 0 0 0 0 0 0 0 0 0\n",
       "r4: 0 0 0 0 0 0 0 0 0 0 0 0 0 0 0 0\n",
       "r5: 0 0 0 0 0 0 0 0 0 0 0 0 0 0 0 0\n",
       "r6: 0 0 0 0 0 0 0 0 0 0 0 0 0 0 0 0\n",
       "r7: 0 0 0 0 0 0 0 0 0 0 0 0 0 0 0 0"
      ]
     },
     "execution_count": 34,
     "metadata": {},
     "output_type": "execute_result"
    }
   ],
   "source": [
    "ram"
   ]
  },
  {
   "cell_type": "code",
   "execution_count": null,
   "metadata": {},
   "outputs": [],
   "source": []
  }
 ],
 "metadata": {
  "kernelspec": {
   "display_name": "nvlk",
   "language": "python",
   "name": "python3"
  },
  "language_info": {
   "codemirror_mode": {
    "name": "ipython",
    "version": 3
   },
   "file_extension": ".py",
   "mimetype": "text/x-python",
   "name": "python",
   "nbconvert_exporter": "python",
   "pygments_lexer": "ipython3",
   "version": "3.11.9"
  }
 },
 "nbformat": 4,
 "nbformat_minor": 2
}
