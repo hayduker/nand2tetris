{
 "cells": [
  {
   "cell_type": "code",
   "execution_count": 57,
   "metadata": {},
   "outputs": [],
   "source": [
    "def Nand(a, b):\n",
    "    return 0 if a == 1 and b == 1 else 1"
   ]
  },
  {
   "cell_type": "code",
   "execution_count": 67,
   "metadata": {},
   "outputs": [],
   "source": [
    "def Not(a):\n",
    "    return Nand(a, a)\n",
    "\n",
    "def And(a, b):\n",
    "    return Not(Nand(a, b))\n",
    "\n",
    "def Or(a, b):\n",
    "    return Not(And(Not(a), Not(b)))\n",
    "\n",
    "def Xor(a, b):\n",
    "    return Or(And(a, Not(b)),\n",
    "              And(Not(a), b))\n",
    "\n",
    "def Mux(a, b, sel):\n",
    "    return Or(And(Not(sel), a),\n",
    "              And(sel, b))\n",
    "\n",
    "def Demux(inp, sel):\n",
    "    a = And(Xor(inp, sel),\n",
    "            Not(sel))\n",
    "    b = And(inp, sel)\n",
    "    return a, b\n",
    "\n",
    "def Not16(ins):\n",
    "    "
   ]
  },
  {
   "cell_type": "code",
   "execution_count": null,
   "metadata": {},
   "outputs": [],
   "source": []
  },
  {
   "cell_type": "code",
   "execution_count": null,
   "metadata": {},
   "outputs": [],
   "source": []
  }
 ],
 "metadata": {
  "kernelspec": {
   "display_name": "nvlk",
   "language": "python",
   "name": "python3"
  },
  "language_info": {
   "codemirror_mode": {
    "name": "ipython",
    "version": 3
   },
   "file_extension": ".py",
   "mimetype": "text/x-python",
   "name": "python",
   "nbconvert_exporter": "python",
   "pygments_lexer": "ipython3",
   "version": "3.11.9"
  }
 },
 "nbformat": 4,
 "nbformat_minor": 2
}
