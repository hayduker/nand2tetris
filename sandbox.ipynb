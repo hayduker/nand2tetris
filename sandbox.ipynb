{
 "cells": [
  {
   "cell_type": "code",
   "execution_count": 35,
   "metadata": {},
   "outputs": [],
   "source": [
    "from gates import *\n",
    "from assembler import HackAssembler"
   ]
  },
  {
   "cell_type": "code",
   "execution_count": 89,
   "metadata": {},
   "outputs": [],
   "source": [
    "class SRNandLatch:\n",
    "    def __init__(self):\n",
    "        self.q = 0\n",
    "        self.not_q = 1\n",
    "\n",
    "    def eval(self, r, s):\n",
    "        if s == 0:\n",
    "            self.not_q = Nand(self.q, s)\n",
    "            self.q = Nand(r, self.not_q)\n",
    "        elif r == 0:\n",
    "            self.q = Nand(r, self.not_q)\n",
    "            self.not_q = Nand(self.q, s)\n",
    "\n",
    "        return self\n",
    "    \n",
    "    def __repr__(self):\n",
    "        return f'q={self.q}, not_q={self.not_q}'"
   ]
  },
  {
   "cell_type": "code",
   "execution_count": null,
   "metadata": {},
   "outputs": [],
   "source": [
    "class CPU:\n",
    "    def __init__(self):\n",
    "        self.a_register = Register()\n",
    "        self.d_register = Register()\n",
    "        self.pc = PC()\n",
    "        self.prev_alu_out = (0,0,0,0,0,0,0,0,0,0,0,0,0,0,0,0)\n",
    "    \n",
    "    def eval(self, instruction, in_m, reset):\n",
    "        \n",
    "        # 1xxaccccccdddjjj\n",
    "\n",
    "        a_instruction = Not(instruction[15])\n",
    "        c_instruction = Not(a_instruction)\n",
    "\n",
    "        a = instruction[12]\n",
    "        zx = instruction[11]\n",
    "        nx = instruction[10]\n",
    "        zy = instruction[9]\n",
    "        ny = instruction[8]\n",
    "        f = instruction[7]\n",
    "        no = instruction[6]\n",
    "        write_a = Or(a_instruction, instruction[5])\n",
    "        write_d = And(c_instruction, instruction[4])\n",
    "        write_m = And(c_instruction, instruction[3])\n",
    "        lt = instruction[2]\n",
    "        eq = instruction[1]\n",
    "        gt = instruction[0]\n",
    "\n",
    "        which_instruction = Mux16(a=self.prev_alu_out, b=instruction,\n",
    "                                  sel=a_instruction) \n",
    "\n",
    "        a_register_out = self.a_register.eval(which_instruction,\n",
    "                                              load=write_a)\n",
    "\n",
    "        a_or_m = Mux16(a_register_out, in_m, a)\n",
    "\n",
    "        d_register_out = self.d_register.eval(self.prev_alu_out, load=write_d)\n",
    "\n",
    "        alu_out, zr, ng = ALU(d_register_out, a_or_m,\n",
    "                              zx, nx, zy, ny, f, no)\n",
    "\n",
    "        jump = Or(Or(And(lt, ng),\n",
    "                     And(eq, zr)),\n",
    "                  And(gt, And(Not(ng),\n",
    "                              Not(zr))))\n",
    "        \n",
    "        pc_out = self.pc(inp=a_register_out, load=jump, inc=Not(jump), reset=reset)\n",
    "\n",
    "        self.prev_alu_out = alu_out\n",
    "\n",
    "        return alu_out, write_m, a_register_out, pc_out"
   ]
  },
  {
   "cell_type": "code",
   "execution_count": null,
   "metadata": {},
   "outputs": [],
   "source": []
  },
  {
   "cell_type": "code",
   "execution_count": 36,
   "metadata": {},
   "outputs": [],
   "source": [
    "assembler = HackAssembler()\n",
    "assembler.translate('Fill.asm')"
   ]
  },
  {
   "cell_type": "code",
   "execution_count": 38,
   "metadata": {},
   "outputs": [
    {
     "name": "stdout",
     "output_type": "stream",
     "text": [
      "Help on class HackAssembler in module assembler:\n",
      "\n",
      "class HackAssembler(builtins.object)\n",
      " |  Methods defined here:\n",
      " |  \n",
      " |  __init__(self)\n",
      " |      Initialize self.  See help(type(self)) for accurate signature.\n",
      " |  \n",
      " |  translate(self, asm_path)\n",
      " |  \n",
      " |  ----------------------------------------------------------------------\n",
      " |  Data descriptors defined here:\n",
      " |  \n",
      " |  __dict__\n",
      " |      dictionary for instance variables\n",
      " |  \n",
      " |  __weakref__\n",
      " |      list of weak references to the object\n",
      "\n"
     ]
    }
   ],
   "source": [
    "help(HackAssembler)"
   ]
  },
  {
   "cell_type": "code",
   "execution_count": null,
   "metadata": {},
   "outputs": [],
   "source": []
  }
 ],
 "metadata": {
  "kernelspec": {
   "display_name": "nvlk",
   "language": "python",
   "name": "python3"
  },
  "language_info": {
   "codemirror_mode": {
    "name": "ipython",
    "version": 3
   },
   "file_extension": ".py",
   "mimetype": "text/x-python",
   "name": "python",
   "nbconvert_exporter": "python",
   "pygments_lexer": "ipython3",
   "version": "3.11.9"
  }
 },
 "nbformat": 4,
 "nbformat_minor": 2
}
