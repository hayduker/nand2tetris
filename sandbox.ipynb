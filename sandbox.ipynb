{
 "cells": [
  {
   "cell_type": "code",
   "execution_count": 2,
   "metadata": {},
   "outputs": [],
   "source": [
    "from gates import *"
   ]
  },
  {
   "cell_type": "code",
   "execution_count": 10,
   "metadata": {},
   "outputs": [
    {
     "data": {
      "text/plain": [
       "(1, 1, 0, 0, 0, 0, 0, 0, 0, 0, 0, 0, 0, 0, 1, 1)"
      ]
     },
     "execution_count": 10,
     "metadata": {},
     "output_type": "execute_result"
    }
   ],
   "source": [
    "Mux8Way16(a=(1,1,0,0,0,0,0,0,0,0,0,0,0,0,0,0),\n",
    "          b=(0,0,1,1,0,0,0,0,0,0,0,0,0,0,0,0),\n",
    "          c=(0,0,0,0,1,1,0,0,0,0,0,0,0,0,0,0),\n",
    "          d=(0,0,0,0,0,0,1,1,0,0,0,0,0,0,0,0),\n",
    "          e=(1,1,0,0,0,0,0,0,1,1,0,0,0,0,0,0),\n",
    "          f=(1,1,0,0,0,0,0,0,0,0,1,1,0,0,0,0),\n",
    "          g=(1,1,0,0,0,0,0,0,0,0,0,0,1,1,0,0),\n",
    "          h=(1,1,0,0,0,0,0,0,0,0,0,0,0,0,1,1),\n",
    "          sel=(1,1,1))"
   ]
  },
  {
   "cell_type": "code",
   "execution_count": null,
   "metadata": {},
   "outputs": [],
   "source": []
  }
 ],
 "metadata": {
  "kernelspec": {
   "display_name": "nvlk",
   "language": "python",
   "name": "python3"
  },
  "language_info": {
   "codemirror_mode": {
    "name": "ipython",
    "version": 3
   },
   "file_extension": ".py",
   "mimetype": "text/x-python",
   "name": "python",
   "nbconvert_exporter": "python",
   "pygments_lexer": "ipython3",
   "version": "3.11.9"
  }
 },
 "nbformat": 4,
 "nbformat_minor": 2
}
